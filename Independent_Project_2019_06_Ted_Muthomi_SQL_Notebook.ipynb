{
  "nbformat": 4,
  "nbformat_minor": 0,
  "metadata": {
    "colab": {
      "name": "Moringa_Data_Science_Prep_W2_Independent_Project_2019_06_Ted_Muthomi_SQL_Notebook",
      "version": "0.3.2",
      "provenance": [],
      "toc_visible": true,
      "include_colab_link": true
    },
    "kernelspec": {
      "name": "python3",
      "display_name": "Python 3"
    },
    "accelerator": "GPU"
  },
  "cells": [
    {
      "cell_type": "markdown",
      "metadata": {
        "id": "view-in-github",
        "colab_type": "text"
      },
      "source": [
        "<a href=\"https://colab.research.google.com/github/MuthomiTed/EDA-with-SQL/blob/master/Independent_Project_2019_06_Ted_Muthomi_SQL_Notebook.ipynb\" target=\"_parent\"><img src=\"https://colab.research.google.com/assets/colab-badge.svg\" alt=\"Open In Colab\"/></a>"
      ]
    },
    {
      "cell_type": "markdown",
      "metadata": {
        "id": "p-C8fq0OS1y1",
        "colab_type": "text"
      },
      "source": [
        "# <font color=\"black\"> SQL INDEPENDENT PROJECT"
      ]
    },
    {
      "cell_type": "markdown",
      "metadata": {
        "id": "eBKI7MfXgbd7",
        "colab_type": "text"
      },
      "source": [
        "## <font color = \"purple\"> Connecting to SQL Database\n",
        "\n"
      ]
    },
    {
      "cell_type": "code",
      "metadata": {
        "id": "dBeeZl_YqxAc",
        "colab_type": "code",
        "outputId": "10193cb8-0c20-4e72-f462-12f44684ecc3",
        "colab": {
          "base_uri": "https://localhost:8080/",
          "height": 67
        }
      },
      "source": [
        "# We shall first load the SQL extension into our environment;\n",
        "\n",
        "%load_ext sql\n",
        "\n",
        "\n",
        "# Then connect to our in memory sqlite database.\n",
        "\n",
        "%sql sqlite://"
      ],
      "execution_count": 0,
      "outputs": [
        {
          "output_type": "stream",
          "text": [
            "The sql extension is already loaded. To reload it, use:\n",
            "  %reload_ext sql\n"
          ],
          "name": "stdout"
        },
        {
          "output_type": "execute_result",
          "data": {
            "text/plain": [
              "'Connected: @None'"
            ]
          },
          "metadata": {
            "tags": []
          },
          "execution_count": 4
        }
      ]
    },
    {
      "cell_type": "markdown",
      "metadata": {
        "id": "3PrDCrSghZvB",
        "colab_type": "text"
      },
      "source": [
        "## <font color= \"purple\"> Importing  Data from a CSV  File"
      ]
    },
    {
      "cell_type": "code",
      "metadata": {
        "id": "6tkN-OoTrpp1",
        "colab_type": "code",
        "colab": {}
      },
      "source": [
        "# Importing the python libraries we will need in this notebook;\n",
        "\n",
        "import csv\n",
        "import pandas as pd"
      ],
      "execution_count": 0,
      "outputs": []
    },
    {
      "cell_type": "code",
      "metadata": {
        "id": "gODwEQVMsOq_",
        "colab_type": "code",
        "colab": {}
      },
      "source": [
        "# Loading the first table from a local csv file;\n",
        "\n",
        "with open (\"GrandElectors_by_state.csv\", \"r\") as f:\n",
        "  Grandelectors = pd.read_csv (f, index_col = 0, encoding = \"utf-8\")\n",
        "  \n"
      ],
      "execution_count": 0,
      "outputs": []
    },
    {
      "cell_type": "code",
      "metadata": {
        "id": "50bPiHtUuP9V",
        "colab_type": "code",
        "outputId": "85444395-93c3-43f5-a1e0-9c2b4e7ddbf6",
        "colab": {
          "base_uri": "https://localhost:8080/",
          "height": 182
        }
      },
      "source": [
        "# Then storing it in an SQL table of our in memory sqlite database\n",
        "\n",
        "%sql DROP TABLE IF EXISTS Grandelectors \n",
        "%sql PERSIST Grandelectors\n",
        "%sql select * from Grandelectors limit 3;"
      ],
      "execution_count": 0,
      "outputs": [
        {
          "output_type": "stream",
          "text": [
            " * sqlite://\n",
            "Done.\n",
            " * sqlite://\n",
            " * sqlite://\n",
            "Done.\n"
          ],
          "name": "stdout"
        },
        {
          "output_type": "execute_result",
          "data": {
            "text/html": [
              "<table>\n",
              "    <tr>\n",
              "        <th>State</th>\n",
              "        <th>GrandElectors</th>\n",
              "    </tr>\n",
              "    <tr>\n",
              "        <td>Alabama</td>\n",
              "        <td>9</td>\n",
              "    </tr>\n",
              "    <tr>\n",
              "        <td>Alaska</td>\n",
              "        <td>3</td>\n",
              "    </tr>\n",
              "    <tr>\n",
              "        <td>Arizona</td>\n",
              "        <td>11</td>\n",
              "    </tr>\n",
              "</table>"
            ],
            "text/plain": [
              "[('Alabama', 9), ('Alaska', 3), ('Arizona', 11)]"
            ]
          },
          "metadata": {
            "tags": []
          },
          "execution_count": 7
        }
      ]
    },
    {
      "cell_type": "code",
      "metadata": {
        "id": "WXAarf_3wDGW",
        "colab_type": "code",
        "colab": {}
      },
      "source": [
        "# loading the second table from a local csv file\n",
        "\n",
        "with open (\"Population_by_state.csv\", \"r\") as f:\n",
        "  Population = pd.read_csv (f, index_col = 0, encoding = \"utf-8\")"
      ],
      "execution_count": 0,
      "outputs": []
    },
    {
      "cell_type": "code",
      "metadata": {
        "id": "j8wWO7a8vjXM",
        "colab_type": "code",
        "outputId": "0b1294b5-0ed5-43fb-83ce-6fd219b94341",
        "colab": {
          "base_uri": "https://localhost:8080/",
          "height": 182
        }
      },
      "source": [
        "# Then storing it in an SQL table of our in memory sqlite database\n",
        "\n",
        "%sql DROP TABLE IF EXISTS Population\n",
        "%sql PERSIST Population\n",
        "%sql select * from Population limit 3;"
      ],
      "execution_count": 0,
      "outputs": [
        {
          "output_type": "stream",
          "text": [
            " * sqlite://\n",
            "Done.\n",
            " * sqlite://\n",
            " * sqlite://\n",
            "Done.\n"
          ],
          "name": "stdout"
        },
        {
          "output_type": "execute_result",
          "data": {
            "text/html": [
              "<table>\n",
              "    <tr>\n",
              "        <th>State</th>\n",
              "        <th>Population</th>\n",
              "    </tr>\n",
              "    <tr>\n",
              "        <td>CALIFORNIA</td>\n",
              "        <td>39144818</td>\n",
              "    </tr>\n",
              "    <tr>\n",
              "        <td>TEXAS</td>\n",
              "        <td>27469114</td>\n",
              "    </tr>\n",
              "    <tr>\n",
              "        <td>FLORIDA</td>\n",
              "        <td>20271272</td>\n",
              "    </tr>\n",
              "</table>"
            ],
            "text/plain": [
              "[('CALIFORNIA', 39144818), ('TEXAS', 27469114), ('FLORIDA', 20271272)]"
            ]
          },
          "metadata": {
            "tags": []
          },
          "execution_count": 9
        }
      ]
    },
    {
      "cell_type": "markdown",
      "metadata": {
        "id": "TKUOcMyYfp2C",
        "colab_type": "text"
      },
      "source": [
        "\n",
        "\n",
        "---\n",
        "\n"
      ]
    },
    {
      "cell_type": "markdown",
      "metadata": {
        "id": "rdpuHNUr61md",
        "colab_type": "text"
      },
      "source": [
        "## <font color = \"green\"> Project  Overview\n",
        "\n",
        "The aim of this project is to aid a U.S.A. Presidential candidate to become US president.\n",
        "\n",
        "The winner of the election will be the candidate winning the most grand electors. \n",
        "\n",
        "Grand electors are attributed at the state level: in each of the 51 states, there is a given number of grand electors to win \n",
        " (roughly, but not exactly, proportional to the size of the state)  and the presidential candidate receiving the most local votes wins ALL the Grand Electors in that state.\n",
        " \n",
        "Because the number of grand electors is not exactly proportional to the population, some states can be prioritized to increase the return on investment of the campaign. \n",
        "\n",
        "For example, if we assume here there are only 2 candidates,  and no history (no trend of certain states to vote for a particular candidate or party). \n",
        "Hence, each vote is equally \"expensive\" to get, but some states grant more grand elector per capita.\n",
        "\n",
        "We are provided with 2 tables: one giving the number of Grand Electors per state, the other the population per state.\n",
        "\n",
        "We are asked to identify the states that should be prioritized to win the election, with a smart but simple algorithm \n",
        "(brute force computation of all possibilities to find the absolute optimum is not accepted, as it would be to computationally expensive).\n",
        "\n",
        "It is ok not to find the overall optimum, we just want a strategy that makes sense.\n",
        "\n",
        "(This is of course a very simplistic view of reality, but it is a nice starting point to play with data and analyze possibilities).\n",
        "\n",
        "First we take a few minutes to think about what we need to do.\n",
        "\n",
        "Steps will be suggested hereafter,  but a big part of the data scientist's job is to identify the flow of operations when being asked a practical question, \n",
        "so it is important we start exercising on that in addition to programming.\n",
        "\n",
        "Here is what we are suggesting to do: we will rank states by decreasing number of grand electors per capita. \n",
        "The first states in the list will be the most valuable (we get a large number of grand electors by convincing a small number of people to vote for you). \n",
        "\n",
        "We will target all the states at the top of the list until the cumulative sum (also called running total) of grand electors won is larger than half the total number of Grand Electors in the country.\n",
        "\n",
        "To do that, we need (we are allowed to create as many intermediary tables as you want, to keep queries short):\n",
        "\n",
        "     1. To join the 2 tables:\n",
        "              We notice States are not capitalized the same way in both tables \n",
        "              (one is in uppercase letters, the other not), so we will first need to convert all to uppercase, for instance.\n",
        "              Now we can join the tables on the state key.\n",
        "\n",
        "      2. Our boss wants us to change the name of the \"District of Columbia\" state to its short version \"DC\". \n",
        "\n",
        "      3. To compute the ratio between the number of grand electors and the population in a new column with that ratio.\n",
        "\n",
        "      4. To order the states by decreasing ratio of Grand Electors per capita. That will make our priority list.\n",
        "\n",
        "      5. To compute the running total of Grand Electors in that sorted list.          \n",
        "\n",
        "     6. Independently, to compute the half of the total of Grand Electors overall (in the whole country):\n",
        "              This is the threshold we need to reach for winning the presidential election.\n",
        "\n",
        "      7. To filter our sorted list of states in order to keep only the (top) ones \n",
        "         enabling us to reach the computed threshold. (the other states can be ignored). That is our target list.\n",
        "                Hint: We can do that in 2 steps:\n",
        "                     a. Selecting all the states for which the running total is below or equal to the threshold.\n",
        "                     b. Adding the first state for which the running total is larger than the threshold."
      ]
    },
    {
      "cell_type": "markdown",
      "metadata": {
        "id": "BtCKaUxn-jIp",
        "colab_type": "text"
      },
      "source": [
        "\n",
        "\n",
        "---\n",
        "\n"
      ]
    },
    {
      "cell_type": "markdown",
      "metadata": {
        "id": "IZVbXP2yfuoT",
        "colab_type": "text"
      },
      "source": [
        "\n",
        "\n",
        "---\n",
        "\n"
      ]
    },
    {
      "cell_type": "markdown",
      "metadata": {
        "id": "YWKKzXsRjEw8",
        "colab_type": "text"
      },
      "source": [
        "##  <font color=\"brown\"> Challenge 1: To join the 2 tables;\n",
        " States are not capitalized the same way in both tables (one is in uppercase letters, the other not), so we will first need to convert all to uppercase, for instance. Then we can join the tables on the state key.\n"
      ]
    },
    {
      "cell_type": "code",
      "metadata": {
        "id": "2i0OFm0onFIB",
        "colab_type": "code",
        "outputId": "0f541752-997f-46ac-e6f9-84e82013f15e",
        "colab": {
          "base_uri": "https://localhost:8080/",
          "height": 189
        }
      },
      "source": [
        "# We shall first convert both tables to uppercase\n",
        "\n",
        "%%sql\n",
        "CREATE TABLE Elections AS\n",
        "SELECT upper(Population.State) as \"STATES\", upper(Grandelectors.State) as \"STATES_1\", upper(Population.State) as \"STATES_2\",  Population, GrandElectors as \"Grandelectors\",Grandelectors.State as \"STATES_GE_TABLE\", Population.State as \"STATES_POP_TABLE\"\n",
        "FROM   Grandelectors INNER JOIN Population \n",
        "ON     upper(Grandelectors.State) = upper(Population.State) ;\n",
        "\n",
        "SELECT  * \n",
        "from    Elections\n",
        "LIMIT   5"
      ],
      "execution_count": 0,
      "outputs": [
        {
          "output_type": "stream",
          "text": [
            " * sqlite://\n",
            "Done.\n",
            "Done.\n"
          ],
          "name": "stdout"
        },
        {
          "output_type": "execute_result",
          "data": {
            "text/html": [
              "<table>\n",
              "    <tr>\n",
              "        <th>STATES</th>\n",
              "        <th>STATES_1</th>\n",
              "        <th>STATES_2</th>\n",
              "        <th>Population</th>\n",
              "        <th>Grandelectors</th>\n",
              "        <th>STATES_GE_TABLE</th>\n",
              "        <th>STATES_POP_TABLE</th>\n",
              "    </tr>\n",
              "    <tr>\n",
              "        <td>ALABAMA</td>\n",
              "        <td>ALABAMA</td>\n",
              "        <td>ALABAMA</td>\n",
              "        <td>4858979</td>\n",
              "        <td>9</td>\n",
              "        <td>Alabama</td>\n",
              "        <td>ALABAMA</td>\n",
              "    </tr>\n",
              "    <tr>\n",
              "        <td>ALASKA</td>\n",
              "        <td>ALASKA</td>\n",
              "        <td>ALASKA</td>\n",
              "        <td>738432</td>\n",
              "        <td>3</td>\n",
              "        <td>Alaska</td>\n",
              "        <td>ALASKA</td>\n",
              "    </tr>\n",
              "    <tr>\n",
              "        <td>ARIZONA</td>\n",
              "        <td>ARIZONA</td>\n",
              "        <td>ARIZONA</td>\n",
              "        <td>6828065</td>\n",
              "        <td>11</td>\n",
              "        <td>Arizona</td>\n",
              "        <td>ARIZONA</td>\n",
              "    </tr>\n",
              "    <tr>\n",
              "        <td>ARKANSAS</td>\n",
              "        <td>ARKANSAS</td>\n",
              "        <td>ARKANSAS</td>\n",
              "        <td>2978204</td>\n",
              "        <td>6</td>\n",
              "        <td>Arkansas</td>\n",
              "        <td>ARKANSAS</td>\n",
              "    </tr>\n",
              "    <tr>\n",
              "        <td>CALIFORNIA</td>\n",
              "        <td>CALIFORNIA</td>\n",
              "        <td>CALIFORNIA</td>\n",
              "        <td>39144818</td>\n",
              "        <td>55</td>\n",
              "        <td>California</td>\n",
              "        <td>CALIFORNIA</td>\n",
              "    </tr>\n",
              "</table>"
            ],
            "text/plain": [
              "[('ALABAMA', 'ALABAMA', 'ALABAMA', 4858979, 9, 'Alabama', 'ALABAMA'),\n",
              " ('ALASKA', 'ALASKA', 'ALASKA', 738432, 3, 'Alaska', 'ALASKA'),\n",
              " ('ARIZONA', 'ARIZONA', 'ARIZONA', 6828065, 11, 'Arizona', 'ARIZONA'),\n",
              " ('ARKANSAS', 'ARKANSAS', 'ARKANSAS', 2978204, 6, 'Arkansas', 'ARKANSAS'),\n",
              " ('CALIFORNIA', 'CALIFORNIA', 'CALIFORNIA', 39144818, 55, 'California', 'CALIFORNIA')]"
            ]
          },
          "metadata": {
            "tags": []
          },
          "execution_count": 10
        }
      ]
    },
    {
      "cell_type": "markdown",
      "metadata": {
        "id": "51VGboirnIJh",
        "colab_type": "text"
      },
      "source": [
        "## <font color = \"brown\"> Challenge 2: To change the name of the \"District of Columbia\" state to its short version \"DC\"."
      ]
    },
    {
      "cell_type": "code",
      "metadata": {
        "id": "RKSfSSt-noww",
        "colab_type": "code",
        "outputId": "8feeecbc-ed6b-43f5-a8ac-67c76033fc3f",
        "colab": {
          "base_uri": "https://localhost:8080/",
          "height": 109
        }
      },
      "source": [
        "%%sql\n",
        "UPDATE Elections\n",
        "SET    STATES = \"DC\" ,STATES_1 = \"DC\", STATES_2 = \"DC\"\n",
        "WHERE  POPULATION = 672228;\n",
        "\n",
        "SELECT *\n",
        "FROM   Elections\n",
        "WHERE  STATES = \"DC\""
      ],
      "execution_count": 0,
      "outputs": [
        {
          "output_type": "stream",
          "text": [
            " * sqlite://\n",
            "1 rows affected.\n",
            "Done.\n"
          ],
          "name": "stdout"
        },
        {
          "output_type": "execute_result",
          "data": {
            "text/html": [
              "<table>\n",
              "    <tr>\n",
              "        <th>STATES</th>\n",
              "        <th>STATES_1</th>\n",
              "        <th>STATES_2</th>\n",
              "        <th>Population</th>\n",
              "        <th>Grandelectors</th>\n",
              "        <th>STATES_GE_TABLE</th>\n",
              "        <th>STATES_POP_TABLE</th>\n",
              "    </tr>\n",
              "    <tr>\n",
              "        <td>DC</td>\n",
              "        <td>DC</td>\n",
              "        <td>DC</td>\n",
              "        <td>672228</td>\n",
              "        <td>3</td>\n",
              "        <td>District of Columbia</td>\n",
              "        <td>DISTRICT OF COLUMBIA</td>\n",
              "    </tr>\n",
              "</table>"
            ],
            "text/plain": [
              "[('DC', 'DC', 'DC', 672228, 3, 'District of Columbia', 'DISTRICT OF COLUMBIA')]"
            ]
          },
          "metadata": {
            "tags": []
          },
          "execution_count": 11
        }
      ]
    },
    {
      "cell_type": "markdown",
      "metadata": {
        "id": "nXbiMhc-nvPo",
        "colab_type": "text"
      },
      "source": [
        "## <font color = \"brown\"> Challenge 3: To compute the ratio between the number of grand electors and the population."
      ]
    },
    {
      "cell_type": "code",
      "metadata": {
        "id": "p_gkoJUcoQi5",
        "colab_type": "code",
        "outputId": "e7e68548-fa19-42d3-b9db-150dbae72e7e",
        "colab": {
          "base_uri": "https://localhost:8080/",
          "height": 172
        }
      },
      "source": [
        "%%sql\n",
        "SELECT STATES, Population, Grandelectors, Population / Grandelectors as \"Population_repped_by_one_GE\", ( (Population / Grandelectors * 100.0 ) / Population) as \"Pop_%_repped by one_Grandelector\"\n",
        "FROM   Elections\n",
        "LIMIT  5;\n"
      ],
      "execution_count": 0,
      "outputs": [
        {
          "output_type": "stream",
          "text": [
            " * sqlite://\n",
            "Done.\n"
          ],
          "name": "stdout"
        },
        {
          "output_type": "execute_result",
          "data": {
            "text/html": [
              "<table>\n",
              "    <tr>\n",
              "        <th>STATES</th>\n",
              "        <th>Population</th>\n",
              "        <th>Grandelectors</th>\n",
              "        <th>Population_repped_by_one_GE</th>\n",
              "        <th>Pop_%_repped by one_Grandelector</th>\n",
              "    </tr>\n",
              "    <tr>\n",
              "        <td>ALABAMA</td>\n",
              "        <td>4858979</td>\n",
              "        <td>9</td>\n",
              "        <td>539886</td>\n",
              "        <td>11.111099677524846</td>\n",
              "    </tr>\n",
              "    <tr>\n",
              "        <td>ALASKA</td>\n",
              "        <td>738432</td>\n",
              "        <td>3</td>\n",
              "        <td>246144</td>\n",
              "        <td>33.333333333333336</td>\n",
              "    </tr>\n",
              "    <tr>\n",
              "        <td>ARIZONA</td>\n",
              "        <td>6828065</td>\n",
              "        <td>11</td>\n",
              "        <td>620733</td>\n",
              "        <td>9.090906428102251</td>\n",
              "    </tr>\n",
              "    <tr>\n",
              "        <td>ARKANSAS</td>\n",
              "        <td>2978204</td>\n",
              "        <td>6</td>\n",
              "        <td>496367</td>\n",
              "        <td>16.666655474238837</td>\n",
              "    </tr>\n",
              "    <tr>\n",
              "        <td>CALIFORNIA</td>\n",
              "        <td>39144818</td>\n",
              "        <td>55</td>\n",
              "        <td>711723</td>\n",
              "        <td>1.8181793564604132</td>\n",
              "    </tr>\n",
              "</table>"
            ],
            "text/plain": [
              "[('ALABAMA', 4858979, 9, 539886, 11.111099677524846),\n",
              " ('ALASKA', 738432, 3, 246144, 33.333333333333336),\n",
              " ('ARIZONA', 6828065, 11, 620733, 9.090906428102251),\n",
              " ('ARKANSAS', 2978204, 6, 496367, 16.666655474238837),\n",
              " ('CALIFORNIA', 39144818, 55, 711723, 1.8181793564604132)]"
            ]
          },
          "metadata": {
            "tags": []
          },
          "execution_count": 12
        }
      ]
    },
    {
      "cell_type": "markdown",
      "metadata": {
        "id": "DQytCEjhoSO6",
        "colab_type": "text"
      },
      "source": [
        "## <font color = \"brown\"> Challenge 4: To order the states by decreasing ratio of Grand Electors per capita."
      ]
    },
    {
      "cell_type": "code",
      "metadata": {
        "id": "PKdJScTKozZb",
        "colab_type": "code",
        "outputId": "286b9547-7e13-4acd-e3f2-ee17adedabd8",
        "colab": {
          "base_uri": "https://localhost:8080/",
          "height": 172
        }
      },
      "source": [
        "%%sql\n",
        "SELECT    STATES, Population, Grandelectors, Population / Grandelectors as \"Population_repped_by_one_GE\", ( (Population / Grandelectors * 100.0 ) / Population) as \"Pop_%_repped by one_Grandelector\"\n",
        "FROM      Elections\n",
        "ORDER BY  Grandelectors\n",
        "desc\n",
        "LIMIT     5;"
      ],
      "execution_count": 0,
      "outputs": [
        {
          "output_type": "stream",
          "text": [
            " * sqlite://\n",
            "Done.\n"
          ],
          "name": "stdout"
        },
        {
          "output_type": "execute_result",
          "data": {
            "text/html": [
              "<table>\n",
              "    <tr>\n",
              "        <th>STATES</th>\n",
              "        <th>Population</th>\n",
              "        <th>Grandelectors</th>\n",
              "        <th>Population_repped_by_one_GE</th>\n",
              "        <th>Pop_%_repped by one_Grandelector</th>\n",
              "    </tr>\n",
              "    <tr>\n",
              "        <td>CALIFORNIA</td>\n",
              "        <td>39144818</td>\n",
              "        <td>55</td>\n",
              "        <td>711723</td>\n",
              "        <td>1.8181793564604132</td>\n",
              "    </tr>\n",
              "    <tr>\n",
              "        <td>TEXAS</td>\n",
              "        <td>27469114</td>\n",
              "        <td>38</td>\n",
              "        <td>722871</td>\n",
              "        <td>2.6315774145463884</td>\n",
              "    </tr>\n",
              "    <tr>\n",
              "        <td>FLORIDA</td>\n",
              "        <td>20271272</td>\n",
              "        <td>29</td>\n",
              "        <td>699009</td>\n",
              "        <td>3.4482739908970683</td>\n",
              "    </tr>\n",
              "    <tr>\n",
              "        <td>NEW YORK</td>\n",
              "        <td>19795791</td>\n",
              "        <td>29</td>\n",
              "        <td>682613</td>\n",
              "        <td>3.4482734233757064</td>\n",
              "    </tr>\n",
              "    <tr>\n",
              "        <td>ILLINOIS</td>\n",
              "        <td>12859995</td>\n",
              "        <td>20</td>\n",
              "        <td>642999</td>\n",
              "        <td>4.999994167960407</td>\n",
              "    </tr>\n",
              "</table>"
            ],
            "text/plain": [
              "[('CALIFORNIA', 39144818, 55, 711723, 1.8181793564604132),\n",
              " ('TEXAS', 27469114, 38, 722871, 2.6315774145463884),\n",
              " ('FLORIDA', 20271272, 29, 699009, 3.4482739908970683),\n",
              " ('NEW YORK', 19795791, 29, 682613, 3.4482734233757064),\n",
              " ('ILLINOIS', 12859995, 20, 642999, 4.999994167960407)]"
            ]
          },
          "metadata": {
            "tags": []
          },
          "execution_count": 22
        }
      ]
    },
    {
      "cell_type": "markdown",
      "metadata": {
        "id": "B4FbEN5-o0nQ",
        "colab_type": "text"
      },
      "source": [
        "## <font color = \"brown\"> Challenge 5: To compute the running total of Grand Electors in that sorted list."
      ]
    },
    {
      "cell_type": "code",
      "metadata": {
        "id": "DwQxdyK5pNTi",
        "colab_type": "code",
        "outputId": "71854e47-1442-4f20-c56f-8556e677d413",
        "colab": {
          "base_uri": "https://localhost:8080/",
          "height": 1000
        }
      },
      "source": [
        "%%sql\n",
        "SELECT  A.STATES, A.Population, A.Grandelectors, SUM(B.Grandelectors) as \"Running total\", SUM(B.Population)\n",
        "FROM Elections as A\n",
        "INNER JOIN Elections as B ON (A.Population >= B.Population)\n",
        "GROUP BY A.Population, A.Grandelectors\n",
        "ORDER BY SUM(B.Grandelectors) \n",
        "\n"
      ],
      "execution_count": 0,
      "outputs": [
        {
          "output_type": "stream",
          "text": [
            " * sqlite://\n",
            "Done.\n"
          ],
          "name": "stdout"
        },
        {
          "output_type": "execute_result",
          "data": {
            "text/html": [
              "<table>\n",
              "    <tr>\n",
              "        <th>STATES</th>\n",
              "        <th>Population</th>\n",
              "        <th>Grandelectors</th>\n",
              "        <th>Running total</th>\n",
              "        <th>SUM(B.Population)</th>\n",
              "    </tr>\n",
              "    <tr>\n",
              "        <td>WYOMING</td>\n",
              "        <td>586107</td>\n",
              "        <td>3</td>\n",
              "        <td>3</td>\n",
              "        <td>586107</td>\n",
              "    </tr>\n",
              "    <tr>\n",
              "        <td>VERMONT</td>\n",
              "        <td>626042</td>\n",
              "        <td>3</td>\n",
              "        <td>6</td>\n",
              "        <td>1212149</td>\n",
              "    </tr>\n",
              "    <tr>\n",
              "        <td>DC</td>\n",
              "        <td>672228</td>\n",
              "        <td>3</td>\n",
              "        <td>9</td>\n",
              "        <td>1884377</td>\n",
              "    </tr>\n",
              "    <tr>\n",
              "        <td>ALASKA</td>\n",
              "        <td>738432</td>\n",
              "        <td>3</td>\n",
              "        <td>12</td>\n",
              "        <td>2622809</td>\n",
              "    </tr>\n",
              "    <tr>\n",
              "        <td>NORTH DAKOTA</td>\n",
              "        <td>756927</td>\n",
              "        <td>3</td>\n",
              "        <td>15</td>\n",
              "        <td>3379736</td>\n",
              "    </tr>\n",
              "    <tr>\n",
              "        <td>SOUTH DAKOTA</td>\n",
              "        <td>858469</td>\n",
              "        <td>3</td>\n",
              "        <td>18</td>\n",
              "        <td>4238205</td>\n",
              "    </tr>\n",
              "    <tr>\n",
              "        <td>DELAWARE</td>\n",
              "        <td>945934</td>\n",
              "        <td>3</td>\n",
              "        <td>21</td>\n",
              "        <td>5184139</td>\n",
              "    </tr>\n",
              "    <tr>\n",
              "        <td>MONTANA</td>\n",
              "        <td>1032949</td>\n",
              "        <td>3</td>\n",
              "        <td>24</td>\n",
              "        <td>6217088</td>\n",
              "    </tr>\n",
              "    <tr>\n",
              "        <td>RHODE ISLAND</td>\n",
              "        <td>1056298</td>\n",
              "        <td>4</td>\n",
              "        <td>28</td>\n",
              "        <td>7273386</td>\n",
              "    </tr>\n",
              "    <tr>\n",
              "        <td>MAINE</td>\n",
              "        <td>1329328</td>\n",
              "        <td>4</td>\n",
              "        <td>32</td>\n",
              "        <td>8602714</td>\n",
              "    </tr>\n",
              "    <tr>\n",
              "        <td>NEW HAMPSHIRE</td>\n",
              "        <td>1330608</td>\n",
              "        <td>4</td>\n",
              "        <td>36</td>\n",
              "        <td>9933322</td>\n",
              "    </tr>\n",
              "    <tr>\n",
              "        <td>HAWAII</td>\n",
              "        <td>1431603</td>\n",
              "        <td>4</td>\n",
              "        <td>40</td>\n",
              "        <td>11364925</td>\n",
              "    </tr>\n",
              "    <tr>\n",
              "        <td>IDAHO</td>\n",
              "        <td>1654930</td>\n",
              "        <td>4</td>\n",
              "        <td>44</td>\n",
              "        <td>13019855</td>\n",
              "    </tr>\n",
              "    <tr>\n",
              "        <td>WEST VIRGINIA</td>\n",
              "        <td>1844128</td>\n",
              "        <td>5</td>\n",
              "        <td>49</td>\n",
              "        <td>14863983</td>\n",
              "    </tr>\n",
              "    <tr>\n",
              "        <td>NEBRASKA</td>\n",
              "        <td>1896190</td>\n",
              "        <td>5</td>\n",
              "        <td>54</td>\n",
              "        <td>16760173</td>\n",
              "    </tr>\n",
              "    <tr>\n",
              "        <td>NEW MEXICO</td>\n",
              "        <td>2085109</td>\n",
              "        <td>5</td>\n",
              "        <td>59</td>\n",
              "        <td>18845282</td>\n",
              "    </tr>\n",
              "    <tr>\n",
              "        <td>NEVADA</td>\n",
              "        <td>2890845</td>\n",
              "        <td>6</td>\n",
              "        <td>65</td>\n",
              "        <td>21736127</td>\n",
              "    </tr>\n",
              "    <tr>\n",
              "        <td>KANSAS</td>\n",
              "        <td>2911641</td>\n",
              "        <td>6</td>\n",
              "        <td>71</td>\n",
              "        <td>24647768</td>\n",
              "    </tr>\n",
              "    <tr>\n",
              "        <td>ARKANSAS</td>\n",
              "        <td>2978204</td>\n",
              "        <td>6</td>\n",
              "        <td>77</td>\n",
              "        <td>27625972</td>\n",
              "    </tr>\n",
              "    <tr>\n",
              "        <td>MISSISSIPPI</td>\n",
              "        <td>2992333</td>\n",
              "        <td>6</td>\n",
              "        <td>83</td>\n",
              "        <td>30618305</td>\n",
              "    </tr>\n",
              "    <tr>\n",
              "        <td>UTAH</td>\n",
              "        <td>2995919</td>\n",
              "        <td>6</td>\n",
              "        <td>89</td>\n",
              "        <td>33614224</td>\n",
              "    </tr>\n",
              "    <tr>\n",
              "        <td>IOWA</td>\n",
              "        <td>3123899</td>\n",
              "        <td>6</td>\n",
              "        <td>95</td>\n",
              "        <td>36738123</td>\n",
              "    </tr>\n",
              "    <tr>\n",
              "        <td>CONNECTICUT</td>\n",
              "        <td>3590886</td>\n",
              "        <td>7</td>\n",
              "        <td>102</td>\n",
              "        <td>40329009</td>\n",
              "    </tr>\n",
              "    <tr>\n",
              "        <td>OKLAHOMA</td>\n",
              "        <td>3911338</td>\n",
              "        <td>7</td>\n",
              "        <td>109</td>\n",
              "        <td>44240347</td>\n",
              "    </tr>\n",
              "    <tr>\n",
              "        <td>OREGON</td>\n",
              "        <td>4028977</td>\n",
              "        <td>7</td>\n",
              "        <td>116</td>\n",
              "        <td>48269324</td>\n",
              "    </tr>\n",
              "    <tr>\n",
              "        <td>KENTUCKY</td>\n",
              "        <td>4425092</td>\n",
              "        <td>8</td>\n",
              "        <td>124</td>\n",
              "        <td>52694416</td>\n",
              "    </tr>\n",
              "    <tr>\n",
              "        <td>LOUISIANA</td>\n",
              "        <td>4670724</td>\n",
              "        <td>8</td>\n",
              "        <td>132</td>\n",
              "        <td>57365140</td>\n",
              "    </tr>\n",
              "    <tr>\n",
              "        <td>ALABAMA</td>\n",
              "        <td>4858979</td>\n",
              "        <td>9</td>\n",
              "        <td>141</td>\n",
              "        <td>62224119</td>\n",
              "    </tr>\n",
              "    <tr>\n",
              "        <td>SOUTH CAROLINA</td>\n",
              "        <td>4896146</td>\n",
              "        <td>9</td>\n",
              "        <td>150</td>\n",
              "        <td>67120265</td>\n",
              "    </tr>\n",
              "    <tr>\n",
              "        <td>COLORADO</td>\n",
              "        <td>5456574</td>\n",
              "        <td>9</td>\n",
              "        <td>159</td>\n",
              "        <td>72576839</td>\n",
              "    </tr>\n",
              "    <tr>\n",
              "        <td>MINNESOTA</td>\n",
              "        <td>5489594</td>\n",
              "        <td>10</td>\n",
              "        <td>169</td>\n",
              "        <td>78066433</td>\n",
              "    </tr>\n",
              "    <tr>\n",
              "        <td>WISCONSIN</td>\n",
              "        <td>5771337</td>\n",
              "        <td>10</td>\n",
              "        <td>179</td>\n",
              "        <td>83837770</td>\n",
              "    </tr>\n",
              "    <tr>\n",
              "        <td>MARYLAND</td>\n",
              "        <td>6006401</td>\n",
              "        <td>10</td>\n",
              "        <td>189</td>\n",
              "        <td>89844171</td>\n",
              "    </tr>\n",
              "    <tr>\n",
              "        <td>MISSOURI</td>\n",
              "        <td>6083672</td>\n",
              "        <td>10</td>\n",
              "        <td>199</td>\n",
              "        <td>95927843</td>\n",
              "    </tr>\n",
              "    <tr>\n",
              "        <td>TENNESSEE</td>\n",
              "        <td>6600299</td>\n",
              "        <td>11</td>\n",
              "        <td>210</td>\n",
              "        <td>102528142</td>\n",
              "    </tr>\n",
              "    <tr>\n",
              "        <td>INDIANA</td>\n",
              "        <td>6619680</td>\n",
              "        <td>11</td>\n",
              "        <td>221</td>\n",
              "        <td>109147822</td>\n",
              "    </tr>\n",
              "    <tr>\n",
              "        <td>MASSACHUSETTS</td>\n",
              "        <td>6794422</td>\n",
              "        <td>11</td>\n",
              "        <td>232</td>\n",
              "        <td>115942244</td>\n",
              "    </tr>\n",
              "    <tr>\n",
              "        <td>ARIZONA</td>\n",
              "        <td>6828065</td>\n",
              "        <td>11</td>\n",
              "        <td>243</td>\n",
              "        <td>122770309</td>\n",
              "    </tr>\n",
              "    <tr>\n",
              "        <td>WASHINGTON</td>\n",
              "        <td>7170351</td>\n",
              "        <td>12</td>\n",
              "        <td>255</td>\n",
              "        <td>129940660</td>\n",
              "    </tr>\n",
              "    <tr>\n",
              "        <td>VIRGINIA</td>\n",
              "        <td>8382993</td>\n",
              "        <td>13</td>\n",
              "        <td>268</td>\n",
              "        <td>138323653</td>\n",
              "    </tr>\n",
              "    <tr>\n",
              "        <td>NEW JERSEY</td>\n",
              "        <td>8958013</td>\n",
              "        <td>14</td>\n",
              "        <td>282</td>\n",
              "        <td>147281666</td>\n",
              "    </tr>\n",
              "    <tr>\n",
              "        <td>MICHIGAN</td>\n",
              "        <td>9922576</td>\n",
              "        <td>16</td>\n",
              "        <td>298</td>\n",
              "        <td>157204242</td>\n",
              "    </tr>\n",
              "    <tr>\n",
              "        <td>NORTH CAROLINA</td>\n",
              "        <td>10042802</td>\n",
              "        <td>15</td>\n",
              "        <td>313</td>\n",
              "        <td>167247044</td>\n",
              "    </tr>\n",
              "    <tr>\n",
              "        <td>GEORGIA</td>\n",
              "        <td>10214860</td>\n",
              "        <td>16</td>\n",
              "        <td>329</td>\n",
              "        <td>177461904</td>\n",
              "    </tr>\n",
              "    <tr>\n",
              "        <td>OHIO</td>\n",
              "        <td>11613423</td>\n",
              "        <td>18</td>\n",
              "        <td>347</td>\n",
              "        <td>189075327</td>\n",
              "    </tr>\n",
              "    <tr>\n",
              "        <td>PENNSYLVANIA</td>\n",
              "        <td>12802503</td>\n",
              "        <td>20</td>\n",
              "        <td>367</td>\n",
              "        <td>201877830</td>\n",
              "    </tr>\n",
              "    <tr>\n",
              "        <td>ILLINOIS</td>\n",
              "        <td>12859995</td>\n",
              "        <td>20</td>\n",
              "        <td>387</td>\n",
              "        <td>214737825</td>\n",
              "    </tr>\n",
              "    <tr>\n",
              "        <td>NEW YORK</td>\n",
              "        <td>19795791</td>\n",
              "        <td>29</td>\n",
              "        <td>416</td>\n",
              "        <td>234533616</td>\n",
              "    </tr>\n",
              "    <tr>\n",
              "        <td>FLORIDA</td>\n",
              "        <td>20271272</td>\n",
              "        <td>29</td>\n",
              "        <td>445</td>\n",
              "        <td>254804888</td>\n",
              "    </tr>\n",
              "    <tr>\n",
              "        <td>TEXAS</td>\n",
              "        <td>27469114</td>\n",
              "        <td>38</td>\n",
              "        <td>483</td>\n",
              "        <td>282274002</td>\n",
              "    </tr>\n",
              "    <tr>\n",
              "        <td>CALIFORNIA</td>\n",
              "        <td>39144818</td>\n",
              "        <td>55</td>\n",
              "        <td>538</td>\n",
              "        <td>321418820</td>\n",
              "    </tr>\n",
              "</table>"
            ],
            "text/plain": [
              "[('WYOMING', 586107, 3, 3, 586107),\n",
              " ('VERMONT', 626042, 3, 6, 1212149),\n",
              " ('DC', 672228, 3, 9, 1884377),\n",
              " ('ALASKA', 738432, 3, 12, 2622809),\n",
              " ('NORTH DAKOTA', 756927, 3, 15, 3379736),\n",
              " ('SOUTH DAKOTA', 858469, 3, 18, 4238205),\n",
              " ('DELAWARE', 945934, 3, 21, 5184139),\n",
              " ('MONTANA', 1032949, 3, 24, 6217088),\n",
              " ('RHODE ISLAND', 1056298, 4, 28, 7273386),\n",
              " ('MAINE', 1329328, 4, 32, 8602714),\n",
              " ('NEW HAMPSHIRE', 1330608, 4, 36, 9933322),\n",
              " ('HAWAII', 1431603, 4, 40, 11364925),\n",
              " ('IDAHO', 1654930, 4, 44, 13019855),\n",
              " ('WEST VIRGINIA', 1844128, 5, 49, 14863983),\n",
              " ('NEBRASKA', 1896190, 5, 54, 16760173),\n",
              " ('NEW MEXICO', 2085109, 5, 59, 18845282),\n",
              " ('NEVADA', 2890845, 6, 65, 21736127),\n",
              " ('KANSAS', 2911641, 6, 71, 24647768),\n",
              " ('ARKANSAS', 2978204, 6, 77, 27625972),\n",
              " ('MISSISSIPPI', 2992333, 6, 83, 30618305),\n",
              " ('UTAH', 2995919, 6, 89, 33614224),\n",
              " ('IOWA', 3123899, 6, 95, 36738123),\n",
              " ('CONNECTICUT', 3590886, 7, 102, 40329009),\n",
              " ('OKLAHOMA', 3911338, 7, 109, 44240347),\n",
              " ('OREGON', 4028977, 7, 116, 48269324),\n",
              " ('KENTUCKY', 4425092, 8, 124, 52694416),\n",
              " ('LOUISIANA', 4670724, 8, 132, 57365140),\n",
              " ('ALABAMA', 4858979, 9, 141, 62224119),\n",
              " ('SOUTH CAROLINA', 4896146, 9, 150, 67120265),\n",
              " ('COLORADO', 5456574, 9, 159, 72576839),\n",
              " ('MINNESOTA', 5489594, 10, 169, 78066433),\n",
              " ('WISCONSIN', 5771337, 10, 179, 83837770),\n",
              " ('MARYLAND', 6006401, 10, 189, 89844171),\n",
              " ('MISSOURI', 6083672, 10, 199, 95927843),\n",
              " ('TENNESSEE', 6600299, 11, 210, 102528142),\n",
              " ('INDIANA', 6619680, 11, 221, 109147822),\n",
              " ('MASSACHUSETTS', 6794422, 11, 232, 115942244),\n",
              " ('ARIZONA', 6828065, 11, 243, 122770309),\n",
              " ('WASHINGTON', 7170351, 12, 255, 129940660),\n",
              " ('VIRGINIA', 8382993, 13, 268, 138323653),\n",
              " ('NEW JERSEY', 8958013, 14, 282, 147281666),\n",
              " ('MICHIGAN', 9922576, 16, 298, 157204242),\n",
              " ('NORTH CAROLINA', 10042802, 15, 313, 167247044),\n",
              " ('GEORGIA', 10214860, 16, 329, 177461904),\n",
              " ('OHIO', 11613423, 18, 347, 189075327),\n",
              " ('PENNSYLVANIA', 12802503, 20, 367, 201877830),\n",
              " ('ILLINOIS', 12859995, 20, 387, 214737825),\n",
              " ('NEW YORK', 19795791, 29, 416, 234533616),\n",
              " ('FLORIDA', 20271272, 29, 445, 254804888),\n",
              " ('TEXAS', 27469114, 38, 483, 282274002),\n",
              " ('CALIFORNIA', 39144818, 55, 538, 321418820)]"
            ]
          },
          "metadata": {
            "tags": []
          },
          "execution_count": 47
        }
      ]
    },
    {
      "cell_type": "markdown",
      "metadata": {
        "id": "wn6CeMlUpPaa",
        "colab_type": "text"
      },
      "source": [
        "## <FONT COLOR = \"brown\"> Challenge 6: Independently, to compute the half of the total of Grand Electors overall (in the whole country)."
      ]
    },
    {
      "cell_type": "code",
      "metadata": {
        "id": "J-SapODSpla3",
        "colab_type": "code",
        "outputId": "e9506d9c-6e8a-46c1-f103-c1989bfe82f7",
        "colab": {
          "base_uri": "https://localhost:8080/",
          "height": 92
        }
      },
      "source": [
        "%%sql\n",
        "SELECT   (SUM(Grandelectors) / 2 )\n",
        "FROM     Elections\n"
      ],
      "execution_count": 0,
      "outputs": [
        {
          "output_type": "stream",
          "text": [
            " * sqlite://\n",
            "Done.\n"
          ],
          "name": "stdout"
        },
        {
          "output_type": "execute_result",
          "data": {
            "text/html": [
              "<table>\n",
              "    <tr>\n",
              "        <th>(SUM(Grandelectors) / 2 )</th>\n",
              "    </tr>\n",
              "    <tr>\n",
              "        <td>269</td>\n",
              "    </tr>\n",
              "</table>"
            ],
            "text/plain": [
              "[(269,)]"
            ]
          },
          "metadata": {
            "tags": []
          },
          "execution_count": 15
        }
      ]
    },
    {
      "cell_type": "markdown",
      "metadata": {
        "id": "cgyoc-ZwpmNF",
        "colab_type": "text"
      },
      "source": [
        "## <font color = \"brown\"> Challenge 7: To filter our sorted list of states in order to keep only the (top) ones."
      ]
    },
    {
      "cell_type": "code",
      "metadata": {
        "id": "6FxeCb-dqe9v",
        "colab_type": "code",
        "outputId": "fe538ea1-e981-4d79-c06e-962972992078",
        "colab": {
          "base_uri": "https://localhost:8080/",
          "height": 892
        }
      },
      "source": [
        "%%sql\n",
        "SELECT  A.STATES, A.Population, A.Grandelectors, SUM(B.Grandelectors) as \"Running total\", SUM(B.Population)\n",
        "FROM Elections as A\n",
        "INNER JOIN Elections as B ON (A.Population >= B.Population)\n",
        "GROUP BY A.Population, A.Grandelectors\n",
        "ORDER BY SUM(B.Grandelectors) \n",
        "limit 41\n"
      ],
      "execution_count": 0,
      "outputs": [
        {
          "output_type": "stream",
          "text": [
            " * sqlite://\n",
            "Done.\n"
          ],
          "name": "stdout"
        },
        {
          "output_type": "execute_result",
          "data": {
            "text/html": [
              "<table>\n",
              "    <tr>\n",
              "        <th>STATES</th>\n",
              "        <th>Population</th>\n",
              "        <th>Grandelectors</th>\n",
              "        <th>Running total</th>\n",
              "        <th>SUM(B.Population)</th>\n",
              "    </tr>\n",
              "    <tr>\n",
              "        <td>WYOMING</td>\n",
              "        <td>586107</td>\n",
              "        <td>3</td>\n",
              "        <td>3</td>\n",
              "        <td>586107</td>\n",
              "    </tr>\n",
              "    <tr>\n",
              "        <td>VERMONT</td>\n",
              "        <td>626042</td>\n",
              "        <td>3</td>\n",
              "        <td>6</td>\n",
              "        <td>1212149</td>\n",
              "    </tr>\n",
              "    <tr>\n",
              "        <td>DC</td>\n",
              "        <td>672228</td>\n",
              "        <td>3</td>\n",
              "        <td>9</td>\n",
              "        <td>1884377</td>\n",
              "    </tr>\n",
              "    <tr>\n",
              "        <td>ALASKA</td>\n",
              "        <td>738432</td>\n",
              "        <td>3</td>\n",
              "        <td>12</td>\n",
              "        <td>2622809</td>\n",
              "    </tr>\n",
              "    <tr>\n",
              "        <td>NORTH DAKOTA</td>\n",
              "        <td>756927</td>\n",
              "        <td>3</td>\n",
              "        <td>15</td>\n",
              "        <td>3379736</td>\n",
              "    </tr>\n",
              "    <tr>\n",
              "        <td>SOUTH DAKOTA</td>\n",
              "        <td>858469</td>\n",
              "        <td>3</td>\n",
              "        <td>18</td>\n",
              "        <td>4238205</td>\n",
              "    </tr>\n",
              "    <tr>\n",
              "        <td>DELAWARE</td>\n",
              "        <td>945934</td>\n",
              "        <td>3</td>\n",
              "        <td>21</td>\n",
              "        <td>5184139</td>\n",
              "    </tr>\n",
              "    <tr>\n",
              "        <td>MONTANA</td>\n",
              "        <td>1032949</td>\n",
              "        <td>3</td>\n",
              "        <td>24</td>\n",
              "        <td>6217088</td>\n",
              "    </tr>\n",
              "    <tr>\n",
              "        <td>RHODE ISLAND</td>\n",
              "        <td>1056298</td>\n",
              "        <td>4</td>\n",
              "        <td>28</td>\n",
              "        <td>7273386</td>\n",
              "    </tr>\n",
              "    <tr>\n",
              "        <td>MAINE</td>\n",
              "        <td>1329328</td>\n",
              "        <td>4</td>\n",
              "        <td>32</td>\n",
              "        <td>8602714</td>\n",
              "    </tr>\n",
              "    <tr>\n",
              "        <td>NEW HAMPSHIRE</td>\n",
              "        <td>1330608</td>\n",
              "        <td>4</td>\n",
              "        <td>36</td>\n",
              "        <td>9933322</td>\n",
              "    </tr>\n",
              "    <tr>\n",
              "        <td>HAWAII</td>\n",
              "        <td>1431603</td>\n",
              "        <td>4</td>\n",
              "        <td>40</td>\n",
              "        <td>11364925</td>\n",
              "    </tr>\n",
              "    <tr>\n",
              "        <td>IDAHO</td>\n",
              "        <td>1654930</td>\n",
              "        <td>4</td>\n",
              "        <td>44</td>\n",
              "        <td>13019855</td>\n",
              "    </tr>\n",
              "    <tr>\n",
              "        <td>WEST VIRGINIA</td>\n",
              "        <td>1844128</td>\n",
              "        <td>5</td>\n",
              "        <td>49</td>\n",
              "        <td>14863983</td>\n",
              "    </tr>\n",
              "    <tr>\n",
              "        <td>NEBRASKA</td>\n",
              "        <td>1896190</td>\n",
              "        <td>5</td>\n",
              "        <td>54</td>\n",
              "        <td>16760173</td>\n",
              "    </tr>\n",
              "    <tr>\n",
              "        <td>NEW MEXICO</td>\n",
              "        <td>2085109</td>\n",
              "        <td>5</td>\n",
              "        <td>59</td>\n",
              "        <td>18845282</td>\n",
              "    </tr>\n",
              "    <tr>\n",
              "        <td>NEVADA</td>\n",
              "        <td>2890845</td>\n",
              "        <td>6</td>\n",
              "        <td>65</td>\n",
              "        <td>21736127</td>\n",
              "    </tr>\n",
              "    <tr>\n",
              "        <td>KANSAS</td>\n",
              "        <td>2911641</td>\n",
              "        <td>6</td>\n",
              "        <td>71</td>\n",
              "        <td>24647768</td>\n",
              "    </tr>\n",
              "    <tr>\n",
              "        <td>ARKANSAS</td>\n",
              "        <td>2978204</td>\n",
              "        <td>6</td>\n",
              "        <td>77</td>\n",
              "        <td>27625972</td>\n",
              "    </tr>\n",
              "    <tr>\n",
              "        <td>MISSISSIPPI</td>\n",
              "        <td>2992333</td>\n",
              "        <td>6</td>\n",
              "        <td>83</td>\n",
              "        <td>30618305</td>\n",
              "    </tr>\n",
              "    <tr>\n",
              "        <td>UTAH</td>\n",
              "        <td>2995919</td>\n",
              "        <td>6</td>\n",
              "        <td>89</td>\n",
              "        <td>33614224</td>\n",
              "    </tr>\n",
              "    <tr>\n",
              "        <td>IOWA</td>\n",
              "        <td>3123899</td>\n",
              "        <td>6</td>\n",
              "        <td>95</td>\n",
              "        <td>36738123</td>\n",
              "    </tr>\n",
              "    <tr>\n",
              "        <td>CONNECTICUT</td>\n",
              "        <td>3590886</td>\n",
              "        <td>7</td>\n",
              "        <td>102</td>\n",
              "        <td>40329009</td>\n",
              "    </tr>\n",
              "    <tr>\n",
              "        <td>OKLAHOMA</td>\n",
              "        <td>3911338</td>\n",
              "        <td>7</td>\n",
              "        <td>109</td>\n",
              "        <td>44240347</td>\n",
              "    </tr>\n",
              "    <tr>\n",
              "        <td>OREGON</td>\n",
              "        <td>4028977</td>\n",
              "        <td>7</td>\n",
              "        <td>116</td>\n",
              "        <td>48269324</td>\n",
              "    </tr>\n",
              "    <tr>\n",
              "        <td>KENTUCKY</td>\n",
              "        <td>4425092</td>\n",
              "        <td>8</td>\n",
              "        <td>124</td>\n",
              "        <td>52694416</td>\n",
              "    </tr>\n",
              "    <tr>\n",
              "        <td>LOUISIANA</td>\n",
              "        <td>4670724</td>\n",
              "        <td>8</td>\n",
              "        <td>132</td>\n",
              "        <td>57365140</td>\n",
              "    </tr>\n",
              "    <tr>\n",
              "        <td>ALABAMA</td>\n",
              "        <td>4858979</td>\n",
              "        <td>9</td>\n",
              "        <td>141</td>\n",
              "        <td>62224119</td>\n",
              "    </tr>\n",
              "    <tr>\n",
              "        <td>SOUTH CAROLINA</td>\n",
              "        <td>4896146</td>\n",
              "        <td>9</td>\n",
              "        <td>150</td>\n",
              "        <td>67120265</td>\n",
              "    </tr>\n",
              "    <tr>\n",
              "        <td>COLORADO</td>\n",
              "        <td>5456574</td>\n",
              "        <td>9</td>\n",
              "        <td>159</td>\n",
              "        <td>72576839</td>\n",
              "    </tr>\n",
              "    <tr>\n",
              "        <td>MINNESOTA</td>\n",
              "        <td>5489594</td>\n",
              "        <td>10</td>\n",
              "        <td>169</td>\n",
              "        <td>78066433</td>\n",
              "    </tr>\n",
              "    <tr>\n",
              "        <td>WISCONSIN</td>\n",
              "        <td>5771337</td>\n",
              "        <td>10</td>\n",
              "        <td>179</td>\n",
              "        <td>83837770</td>\n",
              "    </tr>\n",
              "    <tr>\n",
              "        <td>MARYLAND</td>\n",
              "        <td>6006401</td>\n",
              "        <td>10</td>\n",
              "        <td>189</td>\n",
              "        <td>89844171</td>\n",
              "    </tr>\n",
              "    <tr>\n",
              "        <td>MISSOURI</td>\n",
              "        <td>6083672</td>\n",
              "        <td>10</td>\n",
              "        <td>199</td>\n",
              "        <td>95927843</td>\n",
              "    </tr>\n",
              "    <tr>\n",
              "        <td>TENNESSEE</td>\n",
              "        <td>6600299</td>\n",
              "        <td>11</td>\n",
              "        <td>210</td>\n",
              "        <td>102528142</td>\n",
              "    </tr>\n",
              "    <tr>\n",
              "        <td>INDIANA</td>\n",
              "        <td>6619680</td>\n",
              "        <td>11</td>\n",
              "        <td>221</td>\n",
              "        <td>109147822</td>\n",
              "    </tr>\n",
              "    <tr>\n",
              "        <td>MASSACHUSETTS</td>\n",
              "        <td>6794422</td>\n",
              "        <td>11</td>\n",
              "        <td>232</td>\n",
              "        <td>115942244</td>\n",
              "    </tr>\n",
              "    <tr>\n",
              "        <td>ARIZONA</td>\n",
              "        <td>6828065</td>\n",
              "        <td>11</td>\n",
              "        <td>243</td>\n",
              "        <td>122770309</td>\n",
              "    </tr>\n",
              "    <tr>\n",
              "        <td>WASHINGTON</td>\n",
              "        <td>7170351</td>\n",
              "        <td>12</td>\n",
              "        <td>255</td>\n",
              "        <td>129940660</td>\n",
              "    </tr>\n",
              "    <tr>\n",
              "        <td>VIRGINIA</td>\n",
              "        <td>8382993</td>\n",
              "        <td>13</td>\n",
              "        <td>268</td>\n",
              "        <td>138323653</td>\n",
              "    </tr>\n",
              "    <tr>\n",
              "        <td>NEW JERSEY</td>\n",
              "        <td>8958013</td>\n",
              "        <td>14</td>\n",
              "        <td>282</td>\n",
              "        <td>147281666</td>\n",
              "    </tr>\n",
              "</table>"
            ],
            "text/plain": [
              "[('WYOMING', 586107, 3, 3, 586107),\n",
              " ('VERMONT', 626042, 3, 6, 1212149),\n",
              " ('DC', 672228, 3, 9, 1884377),\n",
              " ('ALASKA', 738432, 3, 12, 2622809),\n",
              " ('NORTH DAKOTA', 756927, 3, 15, 3379736),\n",
              " ('SOUTH DAKOTA', 858469, 3, 18, 4238205),\n",
              " ('DELAWARE', 945934, 3, 21, 5184139),\n",
              " ('MONTANA', 1032949, 3, 24, 6217088),\n",
              " ('RHODE ISLAND', 1056298, 4, 28, 7273386),\n",
              " ('MAINE', 1329328, 4, 32, 8602714),\n",
              " ('NEW HAMPSHIRE', 1330608, 4, 36, 9933322),\n",
              " ('HAWAII', 1431603, 4, 40, 11364925),\n",
              " ('IDAHO', 1654930, 4, 44, 13019855),\n",
              " ('WEST VIRGINIA', 1844128, 5, 49, 14863983),\n",
              " ('NEBRASKA', 1896190, 5, 54, 16760173),\n",
              " ('NEW MEXICO', 2085109, 5, 59, 18845282),\n",
              " ('NEVADA', 2890845, 6, 65, 21736127),\n",
              " ('KANSAS', 2911641, 6, 71, 24647768),\n",
              " ('ARKANSAS', 2978204, 6, 77, 27625972),\n",
              " ('MISSISSIPPI', 2992333, 6, 83, 30618305),\n",
              " ('UTAH', 2995919, 6, 89, 33614224),\n",
              " ('IOWA', 3123899, 6, 95, 36738123),\n",
              " ('CONNECTICUT', 3590886, 7, 102, 40329009),\n",
              " ('OKLAHOMA', 3911338, 7, 109, 44240347),\n",
              " ('OREGON', 4028977, 7, 116, 48269324),\n",
              " ('KENTUCKY', 4425092, 8, 124, 52694416),\n",
              " ('LOUISIANA', 4670724, 8, 132, 57365140),\n",
              " ('ALABAMA', 4858979, 9, 141, 62224119),\n",
              " ('SOUTH CAROLINA', 4896146, 9, 150, 67120265),\n",
              " ('COLORADO', 5456574, 9, 159, 72576839),\n",
              " ('MINNESOTA', 5489594, 10, 169, 78066433),\n",
              " ('WISCONSIN', 5771337, 10, 179, 83837770),\n",
              " ('MARYLAND', 6006401, 10, 189, 89844171),\n",
              " ('MISSOURI', 6083672, 10, 199, 95927843),\n",
              " ('TENNESSEE', 6600299, 11, 210, 102528142),\n",
              " ('INDIANA', 6619680, 11, 221, 109147822),\n",
              " ('MASSACHUSETTS', 6794422, 11, 232, 115942244),\n",
              " ('ARIZONA', 6828065, 11, 243, 122770309),\n",
              " ('WASHINGTON', 7170351, 12, 255, 129940660),\n",
              " ('VIRGINIA', 8382993, 13, 268, 138323653),\n",
              " ('NEW JERSEY', 8958013, 14, 282, 147281666)]"
            ]
          },
          "metadata": {
            "tags": []
          },
          "execution_count": 49
        }
      ]
    },
    {
      "cell_type": "code",
      "metadata": {
        "id": "gNdzyIP7gWso",
        "colab_type": "code",
        "outputId": "26b5f66a-1e9b-4a6f-d3d7-8cab43fc653d",
        "colab": {
          "base_uri": "https://localhost:8080/",
          "height": 292
        }
      },
      "source": [
        "# OPTION II\n",
        "%%sql\n",
        "SELECT  A.STATES, A.Population, A.Grandelectors, SUM(B.Grandelectors) as \"Running total\", SUM(B.Population)\n",
        "FROM Elections as A\n",
        "INNER JOIN Elections as B ON (A.Population <= B.Population)\n",
        "GROUP BY A.Population, A.Grandelectors\n",
        "ORDER BY SUM(B.Grandelectors) \n",
        "LIMIT 11\n"
      ],
      "execution_count": 0,
      "outputs": [
        {
          "output_type": "stream",
          "text": [
            " * sqlite://\n",
            "Done.\n"
          ],
          "name": "stdout"
        },
        {
          "output_type": "execute_result",
          "data": {
            "text/html": [
              "<table>\n",
              "    <tr>\n",
              "        <th>STATES</th>\n",
              "        <th>Population</th>\n",
              "        <th>Grandelectors</th>\n",
              "        <th>Running total</th>\n",
              "        <th>SUM(B.Population)</th>\n",
              "    </tr>\n",
              "    <tr>\n",
              "        <td>CALIFORNIA</td>\n",
              "        <td>39144818</td>\n",
              "        <td>55</td>\n",
              "        <td>55</td>\n",
              "        <td>39144818</td>\n",
              "    </tr>\n",
              "    <tr>\n",
              "        <td>TEXAS</td>\n",
              "        <td>27469114</td>\n",
              "        <td>38</td>\n",
              "        <td>93</td>\n",
              "        <td>66613932</td>\n",
              "    </tr>\n",
              "    <tr>\n",
              "        <td>FLORIDA</td>\n",
              "        <td>20271272</td>\n",
              "        <td>29</td>\n",
              "        <td>122</td>\n",
              "        <td>86885204</td>\n",
              "    </tr>\n",
              "    <tr>\n",
              "        <td>NEW YORK</td>\n",
              "        <td>19795791</td>\n",
              "        <td>29</td>\n",
              "        <td>151</td>\n",
              "        <td>106680995</td>\n",
              "    </tr>\n",
              "    <tr>\n",
              "        <td>ILLINOIS</td>\n",
              "        <td>12859995</td>\n",
              "        <td>20</td>\n",
              "        <td>171</td>\n",
              "        <td>119540990</td>\n",
              "    </tr>\n",
              "    <tr>\n",
              "        <td>PENNSYLVANIA</td>\n",
              "        <td>12802503</td>\n",
              "        <td>20</td>\n",
              "        <td>191</td>\n",
              "        <td>132343493</td>\n",
              "    </tr>\n",
              "    <tr>\n",
              "        <td>OHIO</td>\n",
              "        <td>11613423</td>\n",
              "        <td>18</td>\n",
              "        <td>209</td>\n",
              "        <td>143956916</td>\n",
              "    </tr>\n",
              "    <tr>\n",
              "        <td>GEORGIA</td>\n",
              "        <td>10214860</td>\n",
              "        <td>16</td>\n",
              "        <td>225</td>\n",
              "        <td>154171776</td>\n",
              "    </tr>\n",
              "    <tr>\n",
              "        <td>NORTH CAROLINA</td>\n",
              "        <td>10042802</td>\n",
              "        <td>15</td>\n",
              "        <td>240</td>\n",
              "        <td>164214578</td>\n",
              "    </tr>\n",
              "    <tr>\n",
              "        <td>MICHIGAN</td>\n",
              "        <td>9922576</td>\n",
              "        <td>16</td>\n",
              "        <td>256</td>\n",
              "        <td>174137154</td>\n",
              "    </tr>\n",
              "    <tr>\n",
              "        <td>NEW JERSEY</td>\n",
              "        <td>8958013</td>\n",
              "        <td>14</td>\n",
              "        <td>270</td>\n",
              "        <td>183095167</td>\n",
              "    </tr>\n",
              "</table>"
            ],
            "text/plain": [
              "[('CALIFORNIA', 39144818, 55, 55, 39144818),\n",
              " ('TEXAS', 27469114, 38, 93, 66613932),\n",
              " ('FLORIDA', 20271272, 29, 122, 86885204),\n",
              " ('NEW YORK', 19795791, 29, 151, 106680995),\n",
              " ('ILLINOIS', 12859995, 20, 171, 119540990),\n",
              " ('PENNSYLVANIA', 12802503, 20, 191, 132343493),\n",
              " ('OHIO', 11613423, 18, 209, 143956916),\n",
              " ('GEORGIA', 10214860, 16, 225, 154171776),\n",
              " ('NORTH CAROLINA', 10042802, 15, 240, 164214578),\n",
              " ('MICHIGAN', 9922576, 16, 256, 174137154),\n",
              " ('NEW JERSEY', 8958013, 14, 270, 183095167)]"
            ]
          },
          "metadata": {
            "tags": []
          },
          "execution_count": 52
        }
      ]
    },
    {
      "cell_type": "code",
      "metadata": {
        "id": "YqOmO9k_gcwr",
        "colab_type": "code",
        "colab": {}
      },
      "source": [
        ""
      ],
      "execution_count": 0,
      "outputs": []
    }
  ]
}